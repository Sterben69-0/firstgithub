{
 "cells": [
  {
   "cell_type": "code",
   "execution_count": 1,
   "id": "4b64047f-9ed5-4397-93e5-1fd5eadce87d",
   "metadata": {},
   "outputs": [],
   "source": [
    "import numpy as np"
   ]
  },
  {
   "cell_type": "markdown",
   "id": "a83ca956-5d66-4715-8bb1-202650b0e53a",
   "metadata": {},
   "source": [
    "# Basic of numpy "
   ]
  },
  {
   "cell_type": "code",
   "execution_count": 2,
   "id": "9fed1be1-6afc-4823-bc98-f60a9b122d86",
   "metadata": {},
   "outputs": [
    {
     "data": {
      "text/plain": [
       "array([ 3, 10, 17, 24, 31, 38, 45, 52, 59, 66, 73, 80, 87, 94])"
      ]
     },
     "execution_count": 2,
     "metadata": {},
     "output_type": "execute_result"
    }
   ],
   "source": [
    "a = np.arange(3,99,7)\n",
    "a"
   ]
  },
  {
   "cell_type": "code",
   "execution_count": 3,
   "id": "f3c8222f-bf49-4244-857c-3f7c17b95b8a",
   "metadata": {},
   "outputs": [
    {
     "data": {
      "text/plain": [
       "array([  22.        ,   44.56060606,   67.12121212,   89.68181818,\n",
       "        112.24242424,  134.8030303 ,  157.36363636,  179.92424242,\n",
       "        202.48484848,  225.04545455,  247.60606061,  270.16666667,\n",
       "        292.72727273,  315.28787879,  337.84848485,  360.40909091,\n",
       "        382.96969697,  405.53030303,  428.09090909,  450.65151515,\n",
       "        473.21212121,  495.77272727,  518.33333333,  540.89393939,\n",
       "        563.45454545,  586.01515152,  608.57575758,  631.13636364,\n",
       "        653.6969697 ,  676.25757576,  698.81818182,  721.37878788,\n",
       "        743.93939394,  766.5       ,  789.06060606,  811.62121212,\n",
       "        834.18181818,  856.74242424,  879.3030303 ,  901.86363636,\n",
       "        924.42424242,  946.98484848,  969.54545455,  992.10606061,\n",
       "       1014.66666667, 1037.22727273, 1059.78787879, 1082.34848485,\n",
       "       1104.90909091, 1127.46969697, 1150.03030303, 1172.59090909,\n",
       "       1195.15151515, 1217.71212121, 1240.27272727, 1262.83333333,\n",
       "       1285.39393939, 1307.95454545, 1330.51515152, 1353.07575758,\n",
       "       1375.63636364, 1398.1969697 , 1420.75757576, 1443.31818182,\n",
       "       1465.87878788, 1488.43939394, 1511.        ])"
      ]
     },
     "execution_count": 3,
     "metadata": {},
     "output_type": "execute_result"
    }
   ],
   "source": [
    "np.linspace(22,1511, num=67) # creating a array of specific numbers"
   ]
  },
  {
   "cell_type": "code",
   "execution_count": 4,
   "id": "8768bcf5-a95a-4b83-b9a4-6ea236c31649",
   "metadata": {},
   "outputs": [],
   "source": [
    "x = np.array([[1,2],[3,4]])\n",
    "y = np.array([[5,6]])"
   ]
  },
  {
   "cell_type": "code",
   "execution_count": 5,
   "id": "ed2b660d-9df6-417d-b0e4-51a0b0579491",
   "metadata": {},
   "outputs": [
    {
     "data": {
      "text/plain": [
       "array([[1, 2],\n",
       "       [3, 4]])"
      ]
     },
     "execution_count": 5,
     "metadata": {},
     "output_type": "execute_result"
    }
   ],
   "source": [
    "x"
   ]
  },
  {
   "cell_type": "code",
   "execution_count": 6,
   "id": "86bf39d3-23da-4553-b6f8-9cb54e3fe49f",
   "metadata": {},
   "outputs": [
    {
     "data": {
      "text/plain": [
       "array([[5, 6]])"
      ]
     },
     "execution_count": 6,
     "metadata": {},
     "output_type": "execute_result"
    }
   ],
   "source": [
    "y"
   ]
  },
  {
   "cell_type": "code",
   "execution_count": 7,
   "id": "21315053-f46c-47f1-a6df-f09e46d56a54",
   "metadata": {},
   "outputs": [
    {
     "data": {
      "text/plain": [
       "(2, 2)"
      ]
     },
     "execution_count": 7,
     "metadata": {},
     "output_type": "execute_result"
    }
   ],
   "source": [
    "x.shape"
   ]
  },
  {
   "cell_type": "code",
   "execution_count": 8,
   "id": "a0c79457-2b5b-476c-a5ba-e1515aaac888",
   "metadata": {},
   "outputs": [
    {
     "data": {
      "text/plain": [
       "(1, 2)"
      ]
     },
     "execution_count": 8,
     "metadata": {},
     "output_type": "execute_result"
    }
   ],
   "source": [
    "y.shape"
   ]
  },
  {
   "cell_type": "code",
   "execution_count": 9,
   "id": "8d2c9fd2-0c58-45d1-91ce-d19eda0e6069",
   "metadata": {},
   "outputs": [
    {
     "data": {
      "text/plain": [
       "array([[1, 2],\n",
       "       [3, 4],\n",
       "       [5, 6]])"
      ]
     },
     "execution_count": 9,
     "metadata": {},
     "output_type": "execute_result"
    }
   ],
   "source": [
    "np.concatenate((x,y), axis=0)"
   ]
  },
  {
   "cell_type": "code",
   "execution_count": 10,
   "id": "81c3a582-47ea-42fc-94d3-e1943d737742",
   "metadata": {},
   "outputs": [
    {
     "data": {
      "text/plain": [
       "array([[5],\n",
       "       [6]])"
      ]
     },
     "execution_count": 10,
     "metadata": {},
     "output_type": "execute_result"
    }
   ],
   "source": [
    "x1 = np.reshape(y, shape=(2,1), order='C')\n",
    "x1"
   ]
  },
  {
   "cell_type": "code",
   "execution_count": 11,
   "id": "adbe17e1-38bf-4c5a-8432-840fde4f2106",
   "metadata": {},
   "outputs": [
    {
     "data": {
      "text/plain": [
       "(2, 1)"
      ]
     },
     "execution_count": 11,
     "metadata": {},
     "output_type": "execute_result"
    }
   ],
   "source": [
    "x1.shape"
   ]
  },
  {
   "cell_type": "code",
   "execution_count": 12,
   "id": "67ef7798-85e0-421f-8fed-3743518b8f82",
   "metadata": {},
   "outputs": [
    {
     "data": {
      "text/plain": [
       "array([[1, 2, 5],\n",
       "       [3, 4, 6]])"
      ]
     },
     "execution_count": 12,
     "metadata": {},
     "output_type": "execute_result"
    }
   ],
   "source": [
    "m = np.concatenate((x,x1), axis=1)\n",
    "m"
   ]
  },
  {
   "cell_type": "code",
   "execution_count": 13,
   "id": "284faefb-88b7-42c4-9c47-308559550e6c",
   "metadata": {},
   "outputs": [
    {
     "data": {
      "text/plain": [
       "array([[1],\n",
       "       [3],\n",
       "       [2],\n",
       "       [4],\n",
       "       [5],\n",
       "       [6]])"
      ]
     },
     "execution_count": 13,
     "metadata": {},
     "output_type": "execute_result"
    }
   ],
   "source": [
    "np.reshape(m, shape=(6,1), order='F')"
   ]
  },
  {
   "cell_type": "code",
   "execution_count": 14,
   "id": "241f1dd8-5537-4755-96ac-047e684dc2be",
   "metadata": {},
   "outputs": [
    {
     "data": {
      "text/plain": [
       "array([[ 1,  2,  3,  4],\n",
       "       [ 5,  6,  7,  8],\n",
       "       [ 9, 10, 11, 12]])"
      ]
     },
     "execution_count": 14,
     "metadata": {},
     "output_type": "execute_result"
    }
   ],
   "source": [
    "a = np.array([[1,2,3,4], [5,6,7,8],[9,10,11,12]])\n",
    "a"
   ]
  },
  {
   "cell_type": "code",
   "execution_count": 15,
   "id": "cb704267-2f3a-4393-8096-dc4cf94ee5a5",
   "metadata": {},
   "outputs": [],
   "source": [
    "f5 = (a>5)|(a==5)"
   ]
  },
  {
   "cell_type": "code",
   "execution_count": 16,
   "id": "fef2b790-7b53-4795-b780-01990733b986",
   "metadata": {},
   "outputs": [
    {
     "data": {
      "text/plain": [
       "array([[False, False, False, False],\n",
       "       [ True,  True,  True,  True],\n",
       "       [ True,  True,  True,  True]])"
      ]
     },
     "execution_count": 16,
     "metadata": {},
     "output_type": "execute_result"
    }
   ],
   "source": [
    "f5"
   ]
  },
  {
   "cell_type": "code",
   "execution_count": 17,
   "id": "8147fc3d-3931-4e86-80a4-c059148da804",
   "metadata": {},
   "outputs": [
    {
     "data": {
      "text/plain": [
       "(array([0, 0, 0, 0, 1]), array([0, 1, 2, 3, 0]))"
      ]
     },
     "execution_count": 17,
     "metadata": {},
     "output_type": "execute_result"
    }
   ],
   "source": [
    "b = np.nonzero(a<6)\n",
    "b"
   ]
  },
  {
   "cell_type": "code",
   "execution_count": 18,
   "id": "089dfd25-b8ec-48cf-9cfe-ca41cd4ef296",
   "metadata": {},
   "outputs": [
    {
     "name": "stdout",
     "output_type": "stream",
     "text": [
      "(np.int64(1), np.int64(5), np.int64(9))\n",
      "(np.int64(2), np.int64(6), np.int64(10))\n",
      "(np.int64(3), np.int64(7), np.int64(11))\n",
      "(np.int64(4), np.int64(8), np.int64(12))\n"
     ]
    }
   ],
   "source": [
    "cc = list(zip(a[0],a[1],a[2]))\n",
    "for cord in cc:\n",
    "    print(cord)"
   ]
  },
  {
   "cell_type": "code",
   "execution_count": 19,
   "id": "60eeffea-5c6e-4eb7-8cea-3e84daba3344",
   "metadata": {},
   "outputs": [
    {
     "data": {
      "text/plain": [
       "array([1, 2, 3, 4, 5])"
      ]
     },
     "execution_count": 19,
     "metadata": {},
     "output_type": "execute_result"
    }
   ],
   "source": [
    "(a[b])"
   ]
  },
  {
   "cell_type": "code",
   "execution_count": 20,
   "id": "206405b5-7c36-486e-bad0-92f64857c6fb",
   "metadata": {},
   "outputs": [],
   "source": [
    "# Stacking of arrays \n",
    "a1 = ([[1,1],[2,2]])\n",
    "a2 = ([[3,3],[4,4]])"
   ]
  },
  {
   "cell_type": "code",
   "execution_count": 21,
   "id": "90b0c4e4-c2bb-4510-82df-9dcd6e411e41",
   "metadata": {},
   "outputs": [
    {
     "data": {
      "text/plain": [
       "array([[1, 1],\n",
       "       [2, 2],\n",
       "       [3, 3],\n",
       "       [4, 4]])"
      ]
     },
     "execution_count": 21,
     "metadata": {},
     "output_type": "execute_result"
    }
   ],
   "source": [
    "np.vstack((a1,a2)) # axis 0/ vertically"
   ]
  },
  {
   "cell_type": "code",
   "execution_count": 22,
   "id": "d7ac7ca1-5145-45d1-9655-f078838506ee",
   "metadata": {},
   "outputs": [
    {
     "data": {
      "text/plain": [
       "array([[1, 1, 3, 3],\n",
       "       [2, 2, 4, 4]])"
      ]
     },
     "execution_count": 22,
     "metadata": {},
     "output_type": "execute_result"
    }
   ],
   "source": [
    "np.hstack((a1,a2)) # axis 1/ horizontally "
   ]
  },
  {
   "cell_type": "markdown",
   "id": "0bc3db7f-1f0b-4506-88c1-e271cc4d087e",
   "metadata": {},
   "source": [
    "## split funtion"
   ]
  },
  {
   "cell_type": "code",
   "execution_count": 23,
   "id": "c5dd7381-3f02-4904-a5cc-04c0fbb7f458",
   "metadata": {},
   "outputs": [
    {
     "data": {
      "text/plain": [
       "array([[ 1,  2,  3,  4,  5,  6,  7,  8,  9, 10],\n",
       "       [11, 12, 13, 14, 15, 16, 17, 18, 19, 20],\n",
       "       [21, 22, 23, 24, 25, 26, 27, 28, 29, 30]])"
      ]
     },
     "execution_count": 23,
     "metadata": {},
     "output_type": "execute_result"
    }
   ],
   "source": [
    "sf = np.arange(1,31).reshape(3,10)\n",
    "sf"
   ]
  },
  {
   "cell_type": "code",
   "execution_count": 24,
   "id": "c831766a-9ec9-4210-b6bb-07b2ae47b240",
   "metadata": {},
   "outputs": [
    {
     "data": {
      "text/plain": [
       "[array([[ 1,  2],\n",
       "        [11, 12],\n",
       "        [21, 22]]),\n",
       " array([[ 3,  4],\n",
       "        [13, 14],\n",
       "        [23, 24]]),\n",
       " array([[ 5,  6],\n",
       "        [15, 16],\n",
       "        [25, 26]]),\n",
       " array([[ 7,  8],\n",
       "        [17, 18],\n",
       "        [27, 28]]),\n",
       " array([[ 9, 10],\n",
       "        [19, 20],\n",
       "        [29, 30]])]"
      ]
     },
     "execution_count": 24,
     "metadata": {},
     "output_type": "execute_result"
    }
   ],
   "source": [
    "np.hsplit(sf,5) # split method only work if the number of time you want to split is equal to elements per dimension"
   ]
  },
  {
   "cell_type": "code",
   "execution_count": 25,
   "id": "84da265a-0205-4448-b7c6-2682e9012ec5",
   "metadata": {},
   "outputs": [
    {
     "data": {
      "text/plain": [
       "[array([[ 1,  2,  3,  4,  5,  6,  7,  8,  9, 10]]),\n",
       " array([[11, 12, 13, 14, 15, 16, 17, 18, 19, 20]]),\n",
       " array([[21, 22, 23, 24, 25, 26, 27, 28, 29, 30]])]"
      ]
     },
     "execution_count": 25,
     "metadata": {},
     "output_type": "execute_result"
    }
   ],
   "source": [
    "np.vsplit(sf,3) # there are only three rows here so we can only spit it into 3."
   ]
  },
  {
   "cell_type": "code",
   "execution_count": 26,
   "id": "2b1c7fef-39cd-4085-9199-35af9b4bda1d",
   "metadata": {},
   "outputs": [
    {
     "data": {
      "text/plain": [
       "[array([[ 1,  2,  3,  4,  5],\n",
       "        [11, 12, 13, 14, 15],\n",
       "        [21, 22, 23, 24, 25]]),\n",
       " array([[ 6,  7,  8,  9],\n",
       "        [16, 17, 18, 19],\n",
       "        [26, 27, 28, 29]]),\n",
       " array([[10],\n",
       "        [20],\n",
       "        [30]])]"
      ]
     },
     "execution_count": 26,
     "metadata": {},
     "output_type": "execute_result"
    }
   ],
   "source": [
    "# split from a specific point \n",
    "np.hsplit(sf,(5,9)) # its gonna cut it from 5th and 9th column"
   ]
  },
  {
   "cell_type": "code",
   "execution_count": 27,
   "id": "7822bd69-dd15-4519-87bb-38b196d5e2f4",
   "metadata": {},
   "outputs": [
    {
     "data": {
      "text/plain": [
       "[array([[ 1,  2,  3,  4,  5,  6,  7,  8,  9, 10]]),\n",
       " array([[11, 12, 13, 14, 15, 16, 17, 18, 19, 20]]),\n",
       " array([[21, 22, 23, 24, 25, 26, 27, 28, 29, 30]])]"
      ]
     },
     "execution_count": 27,
     "metadata": {},
     "output_type": "execute_result"
    }
   ],
   "source": [
    "np.vsplit(sf,(1,2)) # only got 3 rows here.... :)"
   ]
  },
  {
   "cell_type": "markdown",
   "id": "4c8a8d3f-a45c-4a09-907a-08bd84c60bc6",
   "metadata": {},
   "source": [
    "## Slicing an array "
   ]
  },
  {
   "cell_type": "code",
   "execution_count": 28,
   "id": "7006a67b-c5cd-44b9-b027-d64112d24736",
   "metadata": {},
   "outputs": [],
   "source": [
    "a = np.array([[1,2,3,4],[5,6,7,8],[9,10,11,12]])"
   ]
  },
  {
   "cell_type": "code",
   "execution_count": 29,
   "id": "fd336a07-00b5-4674-8802-457be0ec5c8d",
   "metadata": {},
   "outputs": [],
   "source": [
    "b1 = a[0,:]\n",
    "b1[2]=21"
   ]
  },
  {
   "cell_type": "code",
   "execution_count": 30,
   "id": "c5c6973e-d183-45df-89da-1beeabfed582",
   "metadata": {},
   "outputs": [
    {
     "data": {
      "text/plain": [
       "array([[ 1,  2, 21,  4],\n",
       "       [ 5,  6,  7,  8],\n",
       "       [ 9, 10, 11, 12]])"
      ]
     },
     "execution_count": 30,
     "metadata": {},
     "output_type": "execute_result"
    }
   ],
   "source": [
    "a"
   ]
  },
  {
   "cell_type": "code",
   "execution_count": 31,
   "id": "403e3857-9a6d-4543-ae0c-e1d3a43bcc40",
   "metadata": {},
   "outputs": [],
   "source": [
    "# create a copy if you not want to change anything in the original array \n",
    "b2 = a.copy()"
   ]
  },
  {
   "cell_type": "code",
   "execution_count": 32,
   "id": "a5707f5b-3a86-4f6a-bd6e-68483c81d2ab",
   "metadata": {},
   "outputs": [
    {
     "data": {
      "text/plain": [
       "array([[ 1,  2, 21,  4],\n",
       "       [ 5,  6,  7,  8],\n",
       "       [ 9, 34, 11, 12]])"
      ]
     },
     "execution_count": 32,
     "metadata": {},
     "output_type": "execute_result"
    }
   ],
   "source": [
    "b2[2,1]=34\n",
    "b2"
   ]
  },
  {
   "cell_type": "code",
   "execution_count": 33,
   "id": "24c0fb68-fbe0-49f1-a01e-4f02636f66a4",
   "metadata": {},
   "outputs": [
    {
     "data": {
      "text/plain": [
       "array([[ 1,  2, 21,  4],\n",
       "       [ 5,  6,  7,  8],\n",
       "       [ 9, 10, 11, 12]])"
      ]
     },
     "execution_count": 33,
     "metadata": {},
     "output_type": "execute_result"
    }
   ],
   "source": [
    "a"
   ]
  },
  {
   "cell_type": "markdown",
   "id": "a3beebdd-1ac8-465c-b4c6-dfa8cfba0b62",
   "metadata": {},
   "source": [
    "**see it changed the value in the copy but the orginal is same**"
   ]
  },
  {
   "cell_type": "markdown",
   "id": "2046dcee-6913-4b84-8338-4e2f7e7a57f9",
   "metadata": {},
   "source": [
    "## Basic mathematics functions "
   ]
  },
  {
   "cell_type": "code",
   "execution_count": 34,
   "id": "bd36a58b-6cfb-4500-9f1d-e9c20fe7fb49",
   "metadata": {},
   "outputs": [],
   "source": [
    "a = np.array([[1,3,5,7],[2,4,6,8]])\n",
    "b = np.array([[5,6,7,8,],[8,7,6,5]])"
   ]
  },
  {
   "cell_type": "code",
   "execution_count": 38,
   "id": "d2e64223-f2c8-49e8-8dd0-21f4f09ab83b",
   "metadata": {},
   "outputs": [
    {
     "data": {
      "text/plain": [
       "array([[ 6,  9, 12, 15],\n",
       "       [10, 11, 12, 13]])"
      ]
     },
     "execution_count": 38,
     "metadata": {},
     "output_type": "execute_result"
    }
   ],
   "source": [
    "a+b # sum of 2 arrays"
   ]
  },
  {
   "cell_type": "code",
   "execution_count": 42,
   "id": "998781c4-a7ff-40e9-b295-b62ab1d691b1",
   "metadata": {},
   "outputs": [
    {
     "data": {
      "text/plain": [
       "np.int64(52)"
      ]
     },
     "execution_count": 42,
     "metadata": {},
     "output_type": "execute_result"
    }
   ],
   "source": [
    "b.sum() # sum of all elements in an array "
   ]
  },
  {
   "cell_type": "code",
   "execution_count": 43,
   "id": "9278e740-fe3b-47f4-a507-f27899fad1a9",
   "metadata": {},
   "outputs": [
    {
     "data": {
      "text/plain": [
       "array([ 3,  7, 11, 15])"
      ]
     },
     "execution_count": 43,
     "metadata": {},
     "output_type": "execute_result"
    }
   ],
   "source": [
    "a.sum(axis=0) # sum of columns "
   ]
  },
  {
   "cell_type": "code",
   "execution_count": 49,
   "id": "d8d0a709-5d28-49f3-81ca-09bafdf6b6d1",
   "metadata": {},
   "outputs": [
    {
     "data": {
      "text/plain": [
       "np.int64(1)"
      ]
     },
     "execution_count": 49,
     "metadata": {},
     "output_type": "execute_result"
    }
   ],
   "source": [
    "a.min() # looking for the minimum value in an array "
   ]
  },
  {
   "cell_type": "code",
   "execution_count": 48,
   "id": "594edec4-0f30-4bd1-85e6-a906c1a7a8e8",
   "metadata": {},
   "outputs": [
    {
     "data": {
      "text/plain": [
       "array([8, 8])"
      ]
     },
     "execution_count": 48,
     "metadata": {},
     "output_type": "execute_result"
    }
   ],
   "source": [
    "b.max(axis=1) # to check maximum value in a specific axis "
   ]
  },
  {
   "cell_type": "code",
   "execution_count": 61,
   "id": "0b428c43-d58b-4f89-9f51-71be10604056",
   "metadata": {},
   "outputs": [],
   "source": [
    "c = np.array([[3,3,3,3]])"
   ]
  },
  {
   "cell_type": "code",
   "execution_count": 62,
   "id": "f6f1c249-c84a-4593-8ed9-fa06278719d5",
   "metadata": {},
   "outputs": [
    {
     "data": {
      "text/plain": [
       "array([[ 4,  6,  8, 10],\n",
       "       [ 5,  7,  9, 11]])"
      ]
     },
     "execution_count": 62,
     "metadata": {},
     "output_type": "execute_result"
    }
   ],
   "source": [
    "a+c"
   ]
  },
  {
   "cell_type": "code",
   "execution_count": 84,
   "id": "92d5b0af-a9dd-4abe-8845-e5667415d26c",
   "metadata": {},
   "outputs": [
    {
     "data": {
      "text/plain": [
       "array([[[0.25760046],\n",
       "        [0.77356069],\n",
       "        [0.53732021]],\n",
       "\n",
       "       [[0.83653187],\n",
       "        [0.16871452],\n",
       "        [0.28497593]],\n",
       "\n",
       "       [[0.9093358 ],\n",
       "        [0.74722942],\n",
       "        [0.19554972]],\n",
       "\n",
       "       [[0.88511678],\n",
       "        [0.96748972],\n",
       "        [0.60404543]],\n",
       "\n",
       "       [[0.24191802],\n",
       "        [0.24446669],\n",
       "        [0.48770147]],\n",
       "\n",
       "       [[0.04323529],\n",
       "        [0.80242133],\n",
       "        [0.33106145]],\n",
       "\n",
       "       [[0.24058899],\n",
       "        [0.46711144],\n",
       "        [0.8900165 ]]])"
      ]
     },
     "execution_count": 84,
     "metadata": {},
     "output_type": "execute_result"
    }
   ],
   "source": [
    "r1 = np.random.default_rng()   # array of random float numbers \n",
    "rng.random((7,3,1))"
   ]
  },
  {
   "cell_type": "code",
   "execution_count": 89,
   "id": "4f6d8d36-21a3-4646-9907-f078ad055f1e",
   "metadata": {},
   "outputs": [
    {
     "data": {
      "text/plain": [
       "array([[[0, 4, 2],\n",
       "        [5, 4, 1],\n",
       "        [0, 2, 0],\n",
       "        [2, 5, 1]],\n",
       "\n",
       "       [[5, 0, 4],\n",
       "        [4, 3, 2],\n",
       "        [1, 3, 3],\n",
       "        [4, 1, 4]],\n",
       "\n",
       "       [[2, 0, 3],\n",
       "        [3, 3, 4],\n",
       "        [4, 3, 4],\n",
       "        [0, 2, 4]]])"
      ]
     },
     "execution_count": 89,
     "metadata": {},
     "output_type": "execute_result"
    }
   ],
   "source": [
    "rng.integers(6, size=(3,4,3))"
   ]
  },
  {
   "cell_type": "markdown",
   "id": "46c8836b-4b56-45ea-9021-fe2e7763e13c",
   "metadata": {},
   "source": [
    "## Sorting an array "
   ]
  },
  {
   "cell_type": "code",
   "execution_count": 92,
   "id": "f6159389-e26e-4587-a7d4-50b091f4db32",
   "metadata": {},
   "outputs": [
    {
     "data": {
      "text/plain": [
       "array([[  11,   11,   11,  111,  111,  111,  111, 1333, 1333,   12,   12,\n",
       "          12,   12,   12,   12,    7,    7,    7,  776,   67,   76]])"
      ]
     },
     "execution_count": 92,
     "metadata": {},
     "output_type": "execute_result"
    }
   ],
   "source": [
    "arr = np.array([[11,11,11, 111, 111, 111, 111, 1333, 1333, 12, 12, 12, 12, 12, 12,7, 7, 7, 776,67,76]])\n",
    "arr"
   ]
  },
  {
   "cell_type": "code",
   "execution_count": 98,
   "id": "8471b497-0b75-4fa1-8dcd-e4a7a6f96abe",
   "metadata": {},
   "outputs": [
    {
     "data": {
      "text/plain": [
       "array([   7,   11,   12,   67,   76,  111,  776, 1333])"
      ]
     },
     "execution_count": 98,
     "metadata": {},
     "output_type": "execute_result"
    }
   ],
   "source": [
    "arr_uni=np.unique(arr) # Sorting unique elements in an array \n",
    "arr_uni"
   ]
  },
  {
   "cell_type": "code",
   "execution_count": 103,
   "id": "78da054e-4b8c-40e1-8b5d-892c37a4edaa",
   "metadata": {},
   "outputs": [
    {
     "data": {
      "text/plain": [
       "(array([   7,   11,   12,   67,   76,  111,  776, 1333]),\n",
       " array([15,  0,  9, 19, 20,  3, 18,  7]))"
      ]
     },
     "execution_count": 103,
     "metadata": {},
     "output_type": "execute_result"
    }
   ],
   "source": [
    "# We can check the indices of the unique values \n",
    "np.unique(arr, return_index=True)"
   ]
  },
  {
   "cell_type": "code",
   "execution_count": 105,
   "id": "2a22926b-6269-4200-b233-aebe3a1f23e8",
   "metadata": {},
   "outputs": [
    {
     "data": {
      "text/plain": [
       "(array([   7,   11,   12,   67,   76,  111,  776, 1333]),\n",
       " array([3, 3, 6, 1, 1, 4, 1, 2]))"
      ]
     },
     "execution_count": 105,
     "metadata": {},
     "output_type": "execute_result"
    }
   ],
   "source": [
    "# we can also count the numbers of an elements in an array\n",
    "np.unique(arr , return_counts=True)"
   ]
  },
  {
   "cell_type": "markdown",
   "id": "d0eadd02-5812-45d0-9b8c-bfc6b1ceced4",
   "metadata": {},
   "source": [
    "## Changing/ Reversing arays"
   ]
  },
  {
   "cell_type": "code",
   "execution_count": 108,
   "id": "ea8eb6cb-bf2b-4d3e-9198-6aa0600b0905",
   "metadata": {},
   "outputs": [
    {
     "data": {
      "text/plain": [
       "array([[ 1,  2,  3,  4],\n",
       "       [ 5,  6,  7,  8],\n",
       "       [ 9, 10, 11, 12]])"
      ]
     },
     "execution_count": 108,
     "metadata": {},
     "output_type": "execute_result"
    }
   ],
   "source": [
    "r = np.array([[1,2,3,4],[5,6,7,8],[9,10,11,12]])\n",
    "r"
   ]
  },
  {
   "cell_type": "code",
   "execution_count": 110,
   "id": "1d3d3890-75b5-4bc9-92e6-d99a07e470e9",
   "metadata": {},
   "outputs": [
    {
     "data": {
      "text/plain": [
       "array([[12, 11, 10,  9],\n",
       "       [ 8,  7,  6,  5],\n",
       "       [ 4,  3,  2,  1]])"
      ]
     },
     "execution_count": 110,
     "metadata": {},
     "output_type": "execute_result"
    }
   ],
   "source": [
    "rr = np.flip(r)\n",
    "rr"
   ]
  },
  {
   "cell_type": "code",
   "execution_count": 111,
   "id": "7814b63a-59c0-40ce-af24-45b694e475bc",
   "metadata": {},
   "outputs": [
    {
     "data": {
      "text/plain": [
       "array([[ 9, 10, 11, 12],\n",
       "       [ 5,  6,  7,  8],\n",
       "       [ 1,  2,  3,  4]])"
      ]
     },
     "execution_count": 111,
     "metadata": {},
     "output_type": "execute_result"
    }
   ],
   "source": [
    "# We can reverse row wise  or column wise \n",
    "\n",
    "np.flip(r, axis=0)"
   ]
  },
  {
   "cell_type": "code",
   "execution_count": 112,
   "id": "a20e75e7-2dcc-4669-bd5a-9491176337cf",
   "metadata": {},
   "outputs": [
    {
     "data": {
      "text/plain": [
       "array([[ 4,  3,  2,  1],\n",
       "       [ 8,  7,  6,  5],\n",
       "       [12, 11, 10,  9]])"
      ]
     },
     "execution_count": 112,
     "metadata": {},
     "output_type": "execute_result"
    }
   ],
   "source": [
    "np.flip(r,axis=1)"
   ]
  },
  {
   "cell_type": "code",
   "execution_count": 120,
   "id": "55db872b-5a65-47d6-8339-2b303ca18167",
   "metadata": {},
   "outputs": [
    {
     "data": {
      "text/plain": [
       "array([[ 1,  2,  3,  4],\n",
       "       [ 8,  7,  6,  5],\n",
       "       [ 9, 10, 11, 12]])"
      ]
     },
     "execution_count": 120,
     "metadata": {},
     "output_type": "execute_result"
    }
   ],
   "source": [
    "# we can change 1 specific row or column as well\n",
    "\n",
    "r[1]=np.flip(r[1])\n",
    "r"
   ]
  },
  {
   "cell_type": "code",
   "execution_count": 122,
   "id": "dbe7bc77-a7d1-41cd-b95c-299ab99c3f22",
   "metadata": {},
   "outputs": [],
   "source": [
    "r[:,1]=np.flip(r[:,1])"
   ]
  },
  {
   "cell_type": "code",
   "execution_count": 123,
   "id": "72b4596f-63c3-4c60-b2aa-ac5498babb7f",
   "metadata": {},
   "outputs": [
    {
     "data": {
      "text/plain": [
       "array([[ 1, 10,  3,  4],\n",
       "       [ 8,  7,  6,  5],\n",
       "       [ 9,  2, 11, 12]])"
      ]
     },
     "execution_count": 123,
     "metadata": {},
     "output_type": "execute_result"
    }
   ],
   "source": [
    "r"
   ]
  }
 ],
 "metadata": {
  "kernelspec": {
   "display_name": "Python 3 (ipykernel)",
   "language": "python",
   "name": "python3"
  },
  "language_info": {
   "codemirror_mode": {
    "name": "ipython",
    "version": 3
   },
   "file_extension": ".py",
   "mimetype": "text/x-python",
   "name": "python",
   "nbconvert_exporter": "python",
   "pygments_lexer": "ipython3",
   "version": "3.13.3"
  }
 },
 "nbformat": 4,
 "nbformat_minor": 5
}
